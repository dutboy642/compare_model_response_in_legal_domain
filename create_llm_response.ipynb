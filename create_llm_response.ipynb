{
 "cells": [
  {
   "cell_type": "markdown",
   "id": "6dea410b",
   "metadata": {},
   "source": [
    "## Mẫu sử dụng llm tạo response"
   ]
  },
  {
   "cell_type": "code",
   "execution_count": null,
   "id": "dd16e74f",
   "metadata": {},
   "outputs": [
    {
     "name": "stdout",
     "output_type": "stream",
     "text": [
      "EMPTY\n",
      "Using API Key from: gemini-2.5-flash-lite_API_KEY\n",
      "Using Base URL from: gemini-2.5-flash-lite_BASE_URL\n"
     ]
    }
   ],
   "source": [
    "from llm import llm, create_llm_prompt\n",
    "\n",
    "# model_name=\"gpt-5-2025-08-07\" #gpt 5\n",
    "model_name=\"gpt-5-mini-2025-08-07\" #gpt 5 mini\n",
    "# model_name=\"local\"\n",
    "# model_name=\"gemini-2.5-flash-lite\"\n",
    "\n",
    "my_llm = llm(model_name=model_name)\n"
   ]
  },
  {
   "cell_type": "code",
   "execution_count": 2,
   "id": "0079cf3e",
   "metadata": {},
   "outputs": [],
   "source": [
    "prompt=create_llm_prompt(False,{\"instruction\":\"you are helpful assistant\",\n",
    "                               \"response_structure\":\"\"\"{\"answer\":str}\"\"\",\n",
    "                               \"input\":\"1+1=\"} )"
   ]
  },
  {
   "cell_type": "code",
   "execution_count": 3,
   "id": "6a5abc9e",
   "metadata": {},
   "outputs": [
    {
     "name": "stdout",
     "output_type": "stream",
     "text": [
      "Total cost of the API call: $0.000171\n"
     ]
    }
   ],
   "source": [
    "response=my_llm.generate(prompt, 200, True, 1.25, 10)"
   ]
  },
  {
   "cell_type": "markdown",
   "id": "4b6b1391",
   "metadata": {},
   "source": [
    "## Model qwen3 14B"
   ]
  },
  {
   "cell_type": "code",
   "execution_count": 1,
   "id": "bb32a93c",
   "metadata": {},
   "outputs": [
    {
     "name": "stdout",
     "output_type": "stream",
     "text": [
      "Using API Key from: local_API_KEY\n",
      "Using Base URL from: local_BASE_URL\n"
     ]
    }
   ],
   "source": [
    "from llm import llm, create_llm_prompt\n",
    "\n",
    "# model_name=\"gpt-5-2025-08-07\" #gpt 5\n",
    "# model_name=\"gpt-5-mini-2025-08-07\" #gpt 5 mini\n",
    "model_name=\"local\"\n",
    "# model_name=\"gemini-2.5-flash-lite\"\n",
    "\n",
    "my_llm = llm(model_name=model_name)\n"
   ]
  },
  {
   "cell_type": "code",
   "execution_count": 2,
   "id": "605abb3e",
   "metadata": {},
   "outputs": [],
   "source": [
    "import pandas as pd\n",
    "laws_df=pd.read_csv(\"dataset/work_rule_results.csv\", encoding=\"utf-8\")"
   ]
  },
  {
   "cell_type": "code",
   "execution_count": 3,
   "id": "bac0edcf",
   "metadata": {},
   "outputs": [
    {
     "data": {
      "text/html": [
       "<div>\n",
       "<style scoped>\n",
       "    .dataframe tbody tr th:only-of-type {\n",
       "        vertical-align: middle;\n",
       "    }\n",
       "\n",
       "    .dataframe tbody tr th {\n",
       "        vertical-align: top;\n",
       "    }\n",
       "\n",
       "    .dataframe thead th {\n",
       "        text-align: right;\n",
       "    }\n",
       "</style>\n",
       "<table border=\"1\" class=\"dataframe\">\n",
       "  <thead>\n",
       "    <tr style=\"text-align: right;\">\n",
       "      <th></th>\n",
       "      <th>law</th>\n",
       "      <th>label</th>\n",
       "      <th>work_rule_ja</th>\n",
       "      <th>explanation_ja</th>\n",
       "      <th>price</th>\n",
       "    </tr>\n",
       "  </thead>\n",
       "  <tbody>\n",
       "    <tr>\n",
       "      <th>0</th>\n",
       "      <td>第○条（週休日）\\n1 使用者は、労働者に対し、毎週少なくとも1回の休日（原則として24時間...</td>\n",
       "      <td>Exemplification</td>\n",
       "      <td>当社は毎週日曜日を週休日と定め、日曜日は原則として午前0時から翌日午前0時までの24時間を連...</td>\n",
       "      <td>法文は週休日を日曜日または特定の曜日に定めることができると規定している。本規則はその範囲内で...</td>\n",
       "      <td>0.000704</td>\n",
       "    </tr>\n",
       "    <tr>\n",
       "      <th>1</th>\n",
       "      <td>第○条（週休日）\\n1 使用者は、労働者に対し、毎週少なくとも1回の休日（原則として24時間...</td>\n",
       "      <td>Strong Entailment</td>\n",
       "      <td>使用者は、労働者に対し毎週少なくとも1回の休日（原則として24時間以上連続するもの）を与えな...</td>\n",
       "      <td>就業規則の文言は法の各項目を再表現しており、義務（毎週1回の24時間以上の休日付与）、例外扱...</td>\n",
       "      <td>0.000910</td>\n",
       "    </tr>\n",
       "    <tr>\n",
       "      <th>2</th>\n",
       "      <td>第○条（週休日）\\n1 使用者は、労働者に対し、毎週少なくとも1回の休日（原則として24時間...</td>\n",
       "      <td>Contradictory</td>\n",
       "      <td>使用者は労働者に対し毎週の休日を必ずしも与える義務を負わないものとし、業務上必要な場合は連続...</td>\n",
       "      <td>法は毎週少なくとも1回（原則24時間以上連続）の休日付与を義務付けているのに対し、本就業規則...</td>\n",
       "      <td>0.000811</td>\n",
       "    </tr>\n",
       "    <tr>\n",
       "      <th>3</th>\n",
       "      <td>第○条（週休日）\\n1 使用者は、労働者に対し、毎週少なくとも1回の休日（原則として24時間...</td>\n",
       "      <td>Weak Entailment</td>\n",
       "      <td>従業員は労働基準法その他関係法令に従い、定期的に休日を取得しなければならない。</td>\n",
       "      <td>本規則は、法が定める「毎週少なくとも1回の休日」や4週間で4日以上の休日といった具体的要件を...</td>\n",
       "      <td>0.000989</td>\n",
       "    </tr>\n",
       "    <tr>\n",
       "      <th>4</th>\n",
       "      <td>第○条（週休日）\\n1 使用者は、労働者に対し、毎週少なくとも1回の休日（原則として24時間...</td>\n",
       "      <td>Contrary</td>\n",
       "      <td>使用者は、労働者に対し、毎週少なくとも2回の休日を与えなければならない。</td>\n",
       "      <td>法は毎週少なくとも1回の休日（原則24時間以上）を義務付けているが、本規則はこれを上回り毎週...</td>\n",
       "      <td>0.000928</td>\n",
       "    </tr>\n",
       "    <tr>\n",
       "      <th>...</th>\n",
       "      <td>...</td>\n",
       "      <td>...</td>\n",
       "      <td>...</td>\n",
       "      <td>...</td>\n",
       "      <td>...</td>\n",
       "    </tr>\n",
       "    <tr>\n",
       "      <th>155</th>\n",
       "      <td>（禁止行為）\\n第1条　事業主は、次に掲げる行為をしてはならない。\\n1　労働者に対する差別...</td>\n",
       "      <td>Strong Entailment</td>\n",
       "      <td>事業主は、労働者に対して性別、妊娠・出産、婚姻の有無、育児・介護に関する申出又は休業の取得、...</td>\n",
       "      <td>本文は、禁止行為（差別・セクシュアルハラスメント・強制労働・不利益取扱いの禁止）、男女均等待...</td>\n",
       "      <td>0.001931</td>\n",
       "    </tr>\n",
       "    <tr>\n",
       "      <th>156</th>\n",
       "      <td>（禁止行為）\\n第1条　事業主は、次に掲げる行為をしてはならない。\\n1　労働者に対する差別...</td>\n",
       "      <td>Neutral – Insufficient</td>\n",
       "      <td>従業員は職場における差別やハラスメントを行ってはならず、互いに尊重し合う態度を保つものとする。</td>\n",
       "      <td>この就業規則は法の禁止規定（差別・ハラスメントの禁止）と関連する一般的な趣旨を示しているが、...</td>\n",
       "      <td>0.000945</td>\n",
       "    </tr>\n",
       "    <tr>\n",
       "      <th>157</th>\n",
       "      <td>（禁止行為）\\n第1条　事業主は、次に掲げる行為をしてはならない。\\n1　労働者に対する差別...</td>\n",
       "      <td>Neutral – Irrelevant</td>\n",
       "      <td>従業員は通勤に使用する自転車を会社敷地内の指定駐輪場に停め、駐輪場以外の場所に放置してはなら...</td>\n",
       "      <td>この就業規則は駐輪場の利用方法に関する社内ルールであり、性別による差別、セクシュアルハラスメ...</td>\n",
       "      <td>0.000871</td>\n",
       "    </tr>\n",
       "    <tr>\n",
       "      <th>158</th>\n",
       "      <td>（禁止行為）\\n第1条　事業主は、次に掲げる行為をしてはならない。\\n1　労働者に対する差別...</td>\n",
       "      <td>Subaltern</td>\n",
       "      <td>当社は、正社員のみならず派遣社員、契約社員、パートタイマー、アルバイトその他雇用形態を問わな...</td>\n",
       "      <td>法は性別等に基づく差別や均等な機会の確保を規定しているが、主に「労働者」一般を対象としている...</td>\n",
       "      <td>0.001340</td>\n",
       "    </tr>\n",
       "    <tr>\n",
       "      <th>159</th>\n",
       "      <td>（禁止行為）\\n第1条　事業主は、次に掲げる行為をしてはならない。\\n1　労働者に対する差別...</td>\n",
       "      <td>Contrary</td>\n",
       "      <td>育児休業、産前産後休業又はこれらに準ずる事由により休業を取得した従業員については、復職後1年...</td>\n",
       "      <td>法は育児・出産等を理由とした不利益取扱いを禁止している（第1条2項、第3条）。本就業規則は休...</td>\n",
       "      <td>0.001372</td>\n",
       "    </tr>\n",
       "  </tbody>\n",
       "</table>\n",
       "<p>160 rows × 5 columns</p>\n",
       "</div>"
      ],
      "text/plain": [
       "                                                   law  \\\n",
       "0    第○条（週休日）\\n1 使用者は、労働者に対し、毎週少なくとも1回の休日（原則として24時間...   \n",
       "1    第○条（週休日）\\n1 使用者は、労働者に対し、毎週少なくとも1回の休日（原則として24時間...   \n",
       "2    第○条（週休日）\\n1 使用者は、労働者に対し、毎週少なくとも1回の休日（原則として24時間...   \n",
       "3    第○条（週休日）\\n1 使用者は、労働者に対し、毎週少なくとも1回の休日（原則として24時間...   \n",
       "4    第○条（週休日）\\n1 使用者は、労働者に対し、毎週少なくとも1回の休日（原則として24時間...   \n",
       "..                                                 ...   \n",
       "155  （禁止行為）\\n第1条　事業主は、次に掲げる行為をしてはならない。\\n1　労働者に対する差別...   \n",
       "156  （禁止行為）\\n第1条　事業主は、次に掲げる行為をしてはならない。\\n1　労働者に対する差別...   \n",
       "157  （禁止行為）\\n第1条　事業主は、次に掲げる行為をしてはならない。\\n1　労働者に対する差別...   \n",
       "158  （禁止行為）\\n第1条　事業主は、次に掲げる行為をしてはならない。\\n1　労働者に対する差別...   \n",
       "159  （禁止行為）\\n第1条　事業主は、次に掲げる行為をしてはならない。\\n1　労働者に対する差別...   \n",
       "\n",
       "                      label  \\\n",
       "0           Exemplification   \n",
       "1         Strong Entailment   \n",
       "2             Contradictory   \n",
       "3           Weak Entailment   \n",
       "4                  Contrary   \n",
       "..                      ...   \n",
       "155       Strong Entailment   \n",
       "156  Neutral – Insufficient   \n",
       "157    Neutral – Irrelevant   \n",
       "158               Subaltern   \n",
       "159                Contrary   \n",
       "\n",
       "                                          work_rule_ja  \\\n",
       "0    当社は毎週日曜日を週休日と定め、日曜日は原則として午前0時から翌日午前0時までの24時間を連...   \n",
       "1    使用者は、労働者に対し毎週少なくとも1回の休日（原則として24時間以上連続するもの）を与えな...   \n",
       "2    使用者は労働者に対し毎週の休日を必ずしも与える義務を負わないものとし、業務上必要な場合は連続...   \n",
       "3              従業員は労働基準法その他関係法令に従い、定期的に休日を取得しなければならない。   \n",
       "4                 使用者は、労働者に対し、毎週少なくとも2回の休日を与えなければならない。   \n",
       "..                                                 ...   \n",
       "155  事業主は、労働者に対して性別、妊娠・出産、婚姻の有無、育児・介護に関する申出又は休業の取得、...   \n",
       "156    従業員は職場における差別やハラスメントを行ってはならず、互いに尊重し合う態度を保つものとする。   \n",
       "157  従業員は通勤に使用する自転車を会社敷地内の指定駐輪場に停め、駐輪場以外の場所に放置してはなら...   \n",
       "158  当社は、正社員のみならず派遣社員、契約社員、パートタイマー、アルバイトその他雇用形態を問わな...   \n",
       "159  育児休業、産前産後休業又はこれらに準ずる事由により休業を取得した従業員については、復職後1年...   \n",
       "\n",
       "                                        explanation_ja     price  \n",
       "0    法文は週休日を日曜日または特定の曜日に定めることができると規定している。本規則はその範囲内で...  0.000704  \n",
       "1    就業規則の文言は法の各項目を再表現しており、義務（毎週1回の24時間以上の休日付与）、例外扱...  0.000910  \n",
       "2    法は毎週少なくとも1回（原則24時間以上連続）の休日付与を義務付けているのに対し、本就業規則...  0.000811  \n",
       "3    本規則は、法が定める「毎週少なくとも1回の休日」や4週間で4日以上の休日といった具体的要件を...  0.000989  \n",
       "4    法は毎週少なくとも1回の休日（原則24時間以上）を義務付けているが、本規則はこれを上回り毎週...  0.000928  \n",
       "..                                                 ...       ...  \n",
       "155  本文は、禁止行為（差別・セクシュアルハラスメント・強制労働・不利益取扱いの禁止）、男女均等待...  0.001931  \n",
       "156  この就業規則は法の禁止規定（差別・ハラスメントの禁止）と関連する一般的な趣旨を示しているが、...  0.000945  \n",
       "157  この就業規則は駐輪場の利用方法に関する社内ルールであり、性別による差別、セクシュアルハラスメ...  0.000871  \n",
       "158  法は性別等に基づく差別や均等な機会の確保を規定しているが、主に「労働者」一般を対象としている...  0.001340  \n",
       "159  法は育児・出産等を理由とした不利益取扱いを禁止している（第1条2項、第3条）。本就業規則は休...  0.001372  \n",
       "\n",
       "[160 rows x 5 columns]"
      ]
     },
     "execution_count": 3,
     "metadata": {},
     "output_type": "execute_result"
    }
   ],
   "source": [
    "laws_df"
   ]
  },
  {
   "cell_type": "code",
   "execution_count": null,
   "id": "e9e45987",
   "metadata": {},
   "outputs": [],
   "source": [
    "from llm import create_llm_prompt\n",
    "from shared.common_fn import run_parallel_tasks_with_saving\n",
    "from prompts import CREATE_EXPLANATION_LABEL_TEMPLATE\n",
    "import copy\n",
    "from json_repair import repair_json \n",
    "import json\n",
    "def create_qwen_response_parallel(\n",
    "    laws_df,\n",
    "    output_csv_path=\"model_response/qwen3_14B_response.csv\",\n",
    "    max_workers=5,\n",
    "    save_every=10,\n",
    "):\n",
    "    \"\"\"Sinh nội quy lao động từ điều luật bằng LLM, chạy song song.\"\"\"\n",
    "    \n",
    "    # Chuẩn bị danh sách job\n",
    "    jobs = [\n",
    "        (i, laws_df.iloc[i][\"law\"])\n",
    "        for i in range(laws_df.shape[0])\n",
    "    ]\n",
    "\n",
    "    # Định nghĩa hàm xử lý từng job\n",
    "    def job_fn(idx, law_text, work_rule):\n",
    "        try:\n",
    "            template = copy.deepcopy(CREATE_EXPLANATION_LABEL_TEMPLATE)\n",
    "            template[\"input\"] = template[\"input\"].format(related_law=law_text, work_rule=work_rule)\n",
    "            prompt = create_llm_prompt(is_model_qwen=False, template=template)\n",
    "\n",
    "            response = my_llm.generate(prompt, max_tokens=4000)\n",
    "            price = my_llm.calculate_price(response)\n",
    "\n",
    "            response_json = repair_json(response.output_text, ensure_ascii=False)\n",
    "            parsed = json.loads(response_json)\n",
    "\n",
    "            return {\n",
    "                \"vi_law\": law_text,\n",
    "                \"converted_law_ja\": parsed.get(\"converted_law_ja\", \"\"),\n",
    "                \"price\": price\n",
    "            }\n",
    "\n",
    "        except Exception as e:\n",
    "            print(f\"⚠️ Error in job {idx}: {e}\")\n",
    "            return {\n",
    "                \"vi_law\": law_text,\n",
    "                \"converted_law_ja\": \"\",\n",
    "                \"price\": 0\n",
    "            }\n",
    "\n",
    "    # Gọi hàm tổng quát\n",
    "    results_df = run_parallel_tasks_with_saving(\n",
    "        jobs=jobs,\n",
    "        job_fn=job_fn,\n",
    "        output_csv_path=output_csv_path,\n",
    "        columns=[\"vi_law\", \"converted_law_ja\", \"price\"],\n",
    "        max_workers=max_workers,\n",
    "        save_every=save_every,\n",
    "    )\n",
    "\n",
    "    return results_df"
   ]
  },
  {
   "cell_type": "code",
   "execution_count": null,
   "id": "13e4b5b3",
   "metadata": {},
   "outputs": [
    {
     "name": "stdout",
     "output_type": "stream",
     "text": [
      "🚀 Running 20 jobs with 5 workers...\n"
     ]
    },
    {
     "name": "stderr",
     "output_type": "stream",
     "text": [
      "/home/thanhnguyen/code/create_dataset/shared/common_fn.py:61: FutureWarning: The behavior of DataFrame concatenation with empty or all-NA entries is deprecated. In a future version, this will no longer exclude empty or all-NA columns when determining the result dtypes. To retain the old behavior, exclude the relevant entries before the concat operation.\n",
      "  results_df = pd.concat([results_df, temp_df], ignore_index=True)\n"
     ]
    },
    {
     "name": "stdout",
     "output_type": "stream",
     "text": [
      "💾 Saved 10 rows (processed 10/20) | 💰 Total = 0.1487\n",
      "💾 Saved 20 rows (processed 20/20) | 💰 Total = 0.3604\n",
      "✅ Completed. Total rows: 20 saved to converted_japanese_laws.csv\n"
     ]
    }
   ],
   "source": [
    "converted_results=convert_law_to_japanese_parallel(\n",
    "    laws_df,\n",
    "    output_csv_path=\"dataset/converted_japanese_laws.csv\",\n",
    "    max_workers=5,\n",
    "    save_every=10)"
   ]
  },
  {
   "cell_type": "markdown",
   "id": "c7f5ab42",
   "metadata": {},
   "source": [
    "## Model gemini flash 2.5 mini"
   ]
  },
  {
   "cell_type": "code",
   "execution_count": null,
   "id": "ec5731f1",
   "metadata": {},
   "outputs": [],
   "source": []
  },
  {
   "cell_type": "markdown",
   "id": "7c313b16",
   "metadata": {},
   "source": [
    "## Model gpt 5 mini"
   ]
  },
  {
   "cell_type": "code",
   "execution_count": 1,
   "id": "4b8c97d4",
   "metadata": {},
   "outputs": [],
   "source": [
    "import pandas as pd\n",
    "laws_df=pd.read_csv(\"dataset/converted_japanese_laws.csv\", encoding=\"utf-8\")"
   ]
  },
  {
   "cell_type": "code",
   "execution_count": 2,
   "id": "58165058",
   "metadata": {},
   "outputs": [
    {
     "name": "stdout",
     "output_type": "stream",
     "text": [
      "Using API Key from: gpt-5-mini-2025-08-07_API_KEY\n",
      "Using Base URL from: gpt-5-mini-2025-08-07_BASE_URL\n"
     ]
    }
   ],
   "source": [
    "from llm import llm\n",
    "\n",
    "# model_name=\"gpt-5-2025-08-07\" #gpt 5\n",
    "model_name=\"gpt-5-mini-2025-08-07\" #gpt 5 mini\n",
    "# model_name=\"local\"\n",
    "# model_name=\"gemini-2.5-flash-lite\"\n",
    "\n",
    "my_llm = llm(model_name=model_name)"
   ]
  },
  {
   "cell_type": "code",
   "execution_count": 7,
   "id": "33afa111",
   "metadata": {},
   "outputs": [],
   "source": [
    "from llm import create_llm_prompt\n",
    "from prompts import CREATE_WORK_RULE_TEMPLATE_EN, LABEL_LIST\n",
    "from shared.common_fn import run_parallel_tasks_with_saving\n",
    "import copy\n",
    "from json_repair import repair_json \n",
    "import json\n",
    "def generate_work_rules_from_laws_parallel(\n",
    "    laws_df,\n",
    "    output_csv_path=\"work_rule_results.csv\",\n",
    "    max_workers=5,\n",
    "    save_every=10,\n",
    "):\n",
    "    \"\"\"Sinh nội quy lao động từ điều luật bằng LLM, chạy song song.\"\"\"\n",
    "    \n",
    "    # Chuẩn bị danh sách job\n",
    "    jobs = [\n",
    "        (i, laws_df.iloc[i][\"converted_law_ja\"], label)\n",
    "        for i in range(laws_df.shape[0])\n",
    "        for label in LABEL_LIST\n",
    "    ]\n",
    "\n",
    "    # Định nghĩa hàm xử lý từng job\n",
    "    def job_fn(idx, law_text, label):\n",
    "        try:\n",
    "            template = copy.deepcopy(CREATE_WORK_RULE_TEMPLATE_EN)\n",
    "            template[\"input\"] = template[\"input\"].format(law=law_text, label=label)\n",
    "            prompt = create_llm_prompt(is_model_qwen=False, template=template)\n",
    "\n",
    "            response = my_llm.generate(prompt, max_tokens=4000)\n",
    "            price = my_llm.calculate_price(response)\n",
    "\n",
    "            response_json = repair_json(response.output_text, ensure_ascii=False)\n",
    "            parsed = json.loads(response_json)\n",
    "\n",
    "            return {\n",
    "                \"law\": law_text,\n",
    "                \"label\": parsed.get(\"label\", label),\n",
    "                \"work_rule_ja\": parsed.get(\"work_rule_ja\", \"\"),\n",
    "                \"explanation_ja\": parsed.get(\"explanation_ja\", \"\"),\n",
    "                \"price\": price\n",
    "            }\n",
    "\n",
    "        except Exception as e:\n",
    "            print(f\"⚠️ Error in job {idx} ({label}): {e}\")\n",
    "            return {\n",
    "                \"law\": law_text,\n",
    "                \"label\": label,\n",
    "                \"work_rule\": \"\",\n",
    "                \"explanation_vi\": f\"Error: {e}\",\n",
    "                \"price\": 0\n",
    "            }\n",
    "\n",
    "    # Gọi hàm tổng quát\n",
    "    results_df = run_parallel_tasks_with_saving(\n",
    "        jobs=jobs,\n",
    "        job_fn=job_fn,\n",
    "        output_csv_path=output_csv_path,\n",
    "        columns=[\"law\", \"label\", \"work_rule_ja\", \"explanation_ja\", \"price\"],\n",
    "        max_workers=max_workers,\n",
    "        save_every=save_every,\n",
    "    )\n",
    "\n",
    "    return results_df"
   ]
  },
  {
   "cell_type": "code",
   "execution_count": 8,
   "id": "203a0eb0",
   "metadata": {},
   "outputs": [
    {
     "name": "stdout",
     "output_type": "stream",
     "text": [
      "🚀 Running 160 jobs with 5 workers...\n"
     ]
    },
    {
     "name": "stderr",
     "output_type": "stream",
     "text": [
      "/home/thanhnguyen/code/create_dataset/shared/common_fn.py:61: FutureWarning: The behavior of DataFrame concatenation with empty or all-NA entries is deprecated. In a future version, this will no longer exclude empty or all-NA columns when determining the result dtypes. To retain the old behavior, exclude the relevant entries before the concat operation.\n",
      "  results_df = pd.concat([results_df, temp_df], ignore_index=True)\n"
     ]
    },
    {
     "name": "stdout",
     "output_type": "stream",
     "text": [
      "💾 Saved 10 rows (processed 10/160) | 💰 Total = 0.0091\n",
      "💾 Saved 20 rows (processed 20/160) | 💰 Total = 0.0186\n",
      "💾 Saved 30 rows (processed 30/160) | 💰 Total = 0.0285\n",
      "💾 Saved 40 rows (processed 40/160) | 💰 Total = 0.0396\n",
      "💾 Saved 50 rows (processed 50/160) | 💰 Total = 0.0497\n",
      "💾 Saved 60 rows (processed 60/160) | 💰 Total = 0.0596\n",
      "💾 Saved 70 rows (processed 70/160) | 💰 Total = 0.0700\n",
      "💾 Saved 80 rows (processed 80/160) | 💰 Total = 0.0820\n",
      "💾 Saved 90 rows (processed 90/160) | 💰 Total = 0.0938\n",
      "💾 Saved 100 rows (processed 100/160) | 💰 Total = 0.1060\n",
      "💾 Saved 110 rows (processed 110/160) | 💰 Total = 0.1165\n",
      "💾 Saved 120 rows (processed 120/160) | 💰 Total = 0.1287\n",
      "💾 Saved 130 rows (processed 130/160) | 💰 Total = 0.1379\n",
      "💾 Saved 140 rows (processed 140/160) | 💰 Total = 0.1490\n",
      "💾 Saved 150 rows (processed 150/160) | 💰 Total = 0.1607\n",
      "💾 Saved 160 rows (processed 160/160) | 💰 Total = 0.1732\n",
      "✅ Completed. Total rows: 160 saved to dataset/work_rule_results.csv\n"
     ]
    }
   ],
   "source": [
    "results_df=generate_work_rules_from_laws_parallel(laws_df, output_csv_path=\"dataset/work_rule_results.csv\")"
   ]
  },
  {
   "cell_type": "markdown",
   "id": "64243ccf",
   "metadata": {},
   "source": []
  }
 ],
 "metadata": {
  "kernelspec": {
   "display_name": "neo4j",
   "language": "python",
   "name": "python3"
  },
  "language_info": {
   "codemirror_mode": {
    "name": "ipython",
    "version": 3
   },
   "file_extension": ".py",
   "mimetype": "text/x-python",
   "name": "python",
   "nbconvert_exporter": "python",
   "pygments_lexer": "ipython3",
   "version": "3.10.18"
  }
 },
 "nbformat": 4,
 "nbformat_minor": 5
}
