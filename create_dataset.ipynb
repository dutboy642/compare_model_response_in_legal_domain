{
 "cells": [
  {
   "cell_type": "markdown",
   "id": "6dea410b",
   "metadata": {},
   "source": [
    "## Mẫu sử dụng llm tạo response"
   ]
  },
  {
   "cell_type": "code",
   "execution_count": null,
   "id": "dd16e74f",
   "metadata": {},
   "outputs": [
    {
     "name": "stdout",
     "output_type": "stream",
     "text": [
      "EMPTY\n",
      "Using API Key from: gemini-2.5-flash-lite_API_KEY\n",
      "Using Base URL from: gemini-2.5-flash-lite_BASE_URL\n"
     ]
    }
   ],
   "source": [
    "from llm import llm, create_llm_prompt\n",
    "\n",
    "# model_name=\"gpt-5-2025-08-07\" #gpt 5\n",
    "model_name=\"gpt-5-mini-2025-08-07\" #gpt 5 mini\n",
    "# model_name=\"local\"\n",
    "# model_name=\"gemini-2.5-flash-lite\"\n",
    "\n",
    "my_llm = llm(model_name=model_name)\n"
   ]
  },
  {
   "cell_type": "code",
   "execution_count": 2,
   "id": "0079cf3e",
   "metadata": {},
   "outputs": [],
   "source": [
    "prompt=create_llm_prompt(False,{\"instruction\":\"you are helpful assistant\",\n",
    "                               \"response_structure\":\"\"\"{\"answer\":str}\"\"\",\n",
    "                               \"input\":\"1+1=\"} )"
   ]
  },
  {
   "cell_type": "code",
   "execution_count": 3,
   "id": "6a5abc9e",
   "metadata": {},
   "outputs": [
    {
     "name": "stdout",
     "output_type": "stream",
     "text": [
      "Total cost of the API call: $0.000171\n"
     ]
    }
   ],
   "source": [
    "response=my_llm.generate(prompt, 200, True, 1.25, 10)"
   ]
  },
  {
   "cell_type": "markdown",
   "id": "4b6b1391",
   "metadata": {},
   "source": [
    "## Chuyển luật sang tiếng nhật"
   ]
  },
  {
   "cell_type": "code",
   "execution_count": null,
   "id": "bb32a93c",
   "metadata": {},
   "outputs": [
    {
     "name": "stdout",
     "output_type": "stream",
     "text": [
      "Using API Key from: gpt-5-2025-08-07_API_KEY\n",
      "Using Base URL from: gpt-5-2025-08-07_BASE_URL\n"
     ]
    }
   ],
   "source": [
    "from llm import llm, create_llm_prompt\n",
    "\n",
    "# model_name=\"gpt-5-2025-08-07\" #gpt 5\n",
    "model_name=\"gpt-5-mini-2025-08-07\" #gpt 5 mini\n",
    "# model_name=\"local\"\n",
    "# model_name=\"gemini-2.5-flash-lite\"\n",
    "\n",
    "my_llm = llm(model_name=model_name)\n"
   ]
  },
  {
   "cell_type": "code",
   "execution_count": 2,
   "id": "605abb3e",
   "metadata": {},
   "outputs": [],
   "source": [
    "import pandas as pd\n",
    "laws_df=pd.read_csv(\"dataset/20 điều luật việt nam - luật.csv\", encoding=\"utf-8\")"
   ]
  },
  {
   "cell_type": "code",
   "execution_count": 10,
   "id": "bac0edcf",
   "metadata": {},
   "outputs": [
    {
     "data": {
      "text/html": [
       "<div>\n",
       "<style scoped>\n",
       "    .dataframe tbody tr th:only-of-type {\n",
       "        vertical-align: middle;\n",
       "    }\n",
       "\n",
       "    .dataframe tbody tr th {\n",
       "        vertical-align: top;\n",
       "    }\n",
       "\n",
       "    .dataframe thead th {\n",
       "        text-align: right;\n",
       "    }\n",
       "</style>\n",
       "<table border=\"1\" class=\"dataframe\">\n",
       "  <thead>\n",
       "    <tr style=\"text-align: right;\">\n",
       "      <th></th>\n",
       "      <th>STT</th>\n",
       "      <th>Tên</th>\n",
       "      <th>Nội dung rút gọn</th>\n",
       "      <th>Nội dung đầy đủ</th>\n",
       "    </tr>\n",
       "  </thead>\n",
       "  <tbody>\n",
       "    <tr>\n",
       "      <th>0</th>\n",
       "      <td>1</td>\n",
       "      <td>Thời giờ làm việc bình thường</td>\n",
       "      <td>Người lao động làm việc không quá 8 giờ trong ...</td>\n",
       "      <td>Điều 105. Thời giờ làm việc bình thường\\n•    ...</td>\n",
       "    </tr>\n",
       "    <tr>\n",
       "      <th>1</th>\n",
       "      <td>2</td>\n",
       "      <td>Làm thêm giờ</td>\n",
       "      <td>Người lao động chỉ được làm thêm khi có sự đồn...</td>\n",
       "      <td>Điều 107. Làm thêm giờ\\nThời gian làm thêm giờ...</td>\n",
       "    </tr>\n",
       "    <tr>\n",
       "      <th>2</th>\n",
       "      <td>3</td>\n",
       "      <td>Nghỉ giữa giờ</td>\n",
       "      <td>Người lao động làm việc liên tục 6 giờ trở lên...</td>\n",
       "      <td>Điều 109 – Nghỉ giữa giờ\\nNgười lao động làm v...</td>\n",
       "    </tr>\n",
       "    <tr>\n",
       "      <th>3</th>\n",
       "      <td>4</td>\n",
       "      <td>Nghỉ hằng tuần</td>\n",
       "      <td>Người lao động được nghỉ ít nhất 24 giờ liên t...</td>\n",
       "      <td>Điều 110 – Nghỉ hằng tuần\\n1.Mỗi tuần, người l...</td>\n",
       "    </tr>\n",
       "    <tr>\n",
       "      <th>4</th>\n",
       "      <td>5</td>\n",
       "      <td>Nghỉ lễ, tết</td>\n",
       "      <td>Người lao động được nghỉ làm và hưởng nguyên l...</td>\n",
       "      <td>Điều 112 – Nghỉ lễ, tết\\n1.Người lao động được...</td>\n",
       "    </tr>\n",
       "    <tr>\n",
       "      <th>5</th>\n",
       "      <td>6</td>\n",
       "      <td>Tiền lương tối thiểu</td>\n",
       "      <td>Tiền lương của người lao động không được thấp ...</td>\n",
       "      <td>Điều 91. Mức lương tối thiểu\\n\\n1.Mức lương tố...</td>\n",
       "    </tr>\n",
       "    <tr>\n",
       "      <th>6</th>\n",
       "      <td>7</td>\n",
       "      <td>Trả lương đúng hạn</td>\n",
       "      <td>Tiền lương phải được trả đầy đủ và đúng thời h...</td>\n",
       "      <td>Điều 94. Trả lương đầy đủ, đúng thời hạn\\n\\n1....</td>\n",
       "    </tr>\n",
       "    <tr>\n",
       "      <th>7</th>\n",
       "      <td>8</td>\n",
       "      <td>Làm thêm giờ ban đêm</td>\n",
       "      <td>Người lao động làm thêm giờ trong khoảng từ 22...</td>\n",
       "      <td>Điều 98. Tiền lương làm thêm giờ, làm việc vào...</td>\n",
       "    </tr>\n",
       "    <tr>\n",
       "      <th>8</th>\n",
       "      <td>9</td>\n",
       "      <td>Thời gian thử việc</td>\n",
       "      <td>Thời gian thử việc không quá 60 ngày đối với c...</td>\n",
       "      <td>Điều 25. Thời gian thử việc\\n\\nThời gian thử v...</td>\n",
       "    </tr>\n",
       "    <tr>\n",
       "      <th>9</th>\n",
       "      <td>10</td>\n",
       "      <td>Chấm dứt hợp đồng lao động</td>\n",
       "      <td>Người sử dụng lao động phải báo trước ít nhất ...</td>\n",
       "      <td>Điều 35. Quyền đơn phương chấm dứt hợp đồng la...</td>\n",
       "    </tr>\n",
       "    <tr>\n",
       "      <th>10</th>\n",
       "      <td>11</td>\n",
       "      <td>Hợp đồng lao động bằng văn bản</td>\n",
       "      <td>Hợp đồng lao động phải được lập thành văn bản ...</td>\n",
       "      <td>Điều 14. Hình thức hợp đồng lao động\\n\\n1.Hợp ...</td>\n",
       "    </tr>\n",
       "    <tr>\n",
       "      <th>11</th>\n",
       "      <td>12</td>\n",
       "      <td>Bảo hiểm xã hội bắt buộc</td>\n",
       "      <td>Người sử dụng lao động và người lao động phải ...</td>\n",
       "      <td>Điều 2. Đối tượng tham gia bảo hiểm xã hội bắt...</td>\n",
       "    </tr>\n",
       "    <tr>\n",
       "      <th>12</th>\n",
       "      <td>13</td>\n",
       "      <td>Bảo hiểm y tế bắt buộc</td>\n",
       "      <td>Người sử dụng lao động có trách nhiệm tham gia...</td>\n",
       "      <td>Điều 12. Đối tượng tham gia bảo hiểm y tế\\n\\n1...</td>\n",
       "    </tr>\n",
       "    <tr>\n",
       "      <th>13</th>\n",
       "      <td>14</td>\n",
       "      <td>An toàn, vệ sinh lao động</td>\n",
       "      <td>Người sử dụng lao động phải bảo đảm an toàn, v...</td>\n",
       "      <td>I. Theo Bộ luật Lao động năm 2019\\n Điều 138. ...</td>\n",
       "    </tr>\n",
       "    <tr>\n",
       "      <th>14</th>\n",
       "      <td>15</td>\n",
       "      <td>Lao động nữ mang thai và nuôi con nhỏ</td>\n",
       "      <td>Không được sa thải, đơn phương chấm dứt hợp đồ...</td>\n",
       "      <td>Điều 137. Bảo vệ thai sản đối với lao động nữ\\...</td>\n",
       "    </tr>\n",
       "    <tr>\n",
       "      <th>15</th>\n",
       "      <td>16</td>\n",
       "      <td>Lao động chưa thành niên</td>\n",
       "      <td>Người dưới 18 tuổi chỉ được làm công việc nhẹ,...</td>\n",
       "      <td>Điều 143. Lao động chưa thành niên\\n\\n1.Lao độ...</td>\n",
       "    </tr>\n",
       "    <tr>\n",
       "      <th>16</th>\n",
       "      <td>17</td>\n",
       "      <td>Kỷ luật lao động</td>\n",
       "      <td>Hình thức xử lý kỷ luật bao gồm: khiển trách, ...</td>\n",
       "      <td>Điều 124. Hình thức xử lý kỷ luật lao động\\n\\n...</td>\n",
       "    </tr>\n",
       "    <tr>\n",
       "      <th>17</th>\n",
       "      <td>18</td>\n",
       "      <td>Sa thải người lao động</td>\n",
       "      <td>Người sử dụng lao động chỉ được sa thải nếu ng...</td>\n",
       "      <td>Điều 125. Áp dụng hình thức xử lý kỷ luật sa t...</td>\n",
       "    </tr>\n",
       "    <tr>\n",
       "      <th>18</th>\n",
       "      <td>19</td>\n",
       "      <td>Nghĩa vụ bảo mật thông tin</td>\n",
       "      <td>Người lao động có trách nhiệm giữ bí mật thông...</td>\n",
       "      <td>Điều 21. Nội dung hợp đồng lao động\\n\\n1.Hợp đ...</td>\n",
       "    </tr>\n",
       "    <tr>\n",
       "      <th>19</th>\n",
       "      <td>20</td>\n",
       "      <td>Bình đẳng giới trong lao động</td>\n",
       "      <td>Nam và nữ được đối xử bình đẳng về cơ hội, tiề...</td>\n",
       "      <td>Điều 8. Các hành vi bị nghiêm cấm\\n\\nNgười sử ...</td>\n",
       "    </tr>\n",
       "  </tbody>\n",
       "</table>\n",
       "</div>"
      ],
      "text/plain": [
       "    STT                                    Tên  \\\n",
       "0     1          Thời giờ làm việc bình thường   \n",
       "1     2                           Làm thêm giờ   \n",
       "2     3                          Nghỉ giữa giờ   \n",
       "3     4                         Nghỉ hằng tuần   \n",
       "4     5                           Nghỉ lễ, tết   \n",
       "5     6                   Tiền lương tối thiểu   \n",
       "6     7                     Trả lương đúng hạn   \n",
       "7     8                   Làm thêm giờ ban đêm   \n",
       "8     9                     Thời gian thử việc   \n",
       "9    10             Chấm dứt hợp đồng lao động   \n",
       "10   11         Hợp đồng lao động bằng văn bản   \n",
       "11   12               Bảo hiểm xã hội bắt buộc   \n",
       "12   13                 Bảo hiểm y tế bắt buộc   \n",
       "13   14              An toàn, vệ sinh lao động   \n",
       "14   15  Lao động nữ mang thai và nuôi con nhỏ   \n",
       "15   16               Lao động chưa thành niên   \n",
       "16   17                       Kỷ luật lao động   \n",
       "17   18                 Sa thải người lao động   \n",
       "18   19             Nghĩa vụ bảo mật thông tin   \n",
       "19   20          Bình đẳng giới trong lao động   \n",
       "\n",
       "                                     Nội dung rút gọn  \\\n",
       "0   Người lao động làm việc không quá 8 giờ trong ...   \n",
       "1   Người lao động chỉ được làm thêm khi có sự đồn...   \n",
       "2   Người lao động làm việc liên tục 6 giờ trở lên...   \n",
       "3   Người lao động được nghỉ ít nhất 24 giờ liên t...   \n",
       "4   Người lao động được nghỉ làm và hưởng nguyên l...   \n",
       "5   Tiền lương của người lao động không được thấp ...   \n",
       "6   Tiền lương phải được trả đầy đủ và đúng thời h...   \n",
       "7   Người lao động làm thêm giờ trong khoảng từ 22...   \n",
       "8   Thời gian thử việc không quá 60 ngày đối với c...   \n",
       "9   Người sử dụng lao động phải báo trước ít nhất ...   \n",
       "10  Hợp đồng lao động phải được lập thành văn bản ...   \n",
       "11  Người sử dụng lao động và người lao động phải ...   \n",
       "12  Người sử dụng lao động có trách nhiệm tham gia...   \n",
       "13  Người sử dụng lao động phải bảo đảm an toàn, v...   \n",
       "14  Không được sa thải, đơn phương chấm dứt hợp đồ...   \n",
       "15  Người dưới 18 tuổi chỉ được làm công việc nhẹ,...   \n",
       "16  Hình thức xử lý kỷ luật bao gồm: khiển trách, ...   \n",
       "17  Người sử dụng lao động chỉ được sa thải nếu ng...   \n",
       "18  Người lao động có trách nhiệm giữ bí mật thông...   \n",
       "19  Nam và nữ được đối xử bình đẳng về cơ hội, tiề...   \n",
       "\n",
       "                                      Nội dung đầy đủ  \n",
       "0   Điều 105. Thời giờ làm việc bình thường\\n•    ...  \n",
       "1   Điều 107. Làm thêm giờ\\nThời gian làm thêm giờ...  \n",
       "2   Điều 109 – Nghỉ giữa giờ\\nNgười lao động làm v...  \n",
       "3   Điều 110 – Nghỉ hằng tuần\\n1.Mỗi tuần, người l...  \n",
       "4   Điều 112 – Nghỉ lễ, tết\\n1.Người lao động được...  \n",
       "5   Điều 91. Mức lương tối thiểu\\n\\n1.Mức lương tố...  \n",
       "6   Điều 94. Trả lương đầy đủ, đúng thời hạn\\n\\n1....  \n",
       "7   Điều 98. Tiền lương làm thêm giờ, làm việc vào...  \n",
       "8   Điều 25. Thời gian thử việc\\n\\nThời gian thử v...  \n",
       "9   Điều 35. Quyền đơn phương chấm dứt hợp đồng la...  \n",
       "10  Điều 14. Hình thức hợp đồng lao động\\n\\n1.Hợp ...  \n",
       "11  Điều 2. Đối tượng tham gia bảo hiểm xã hội bắt...  \n",
       "12  Điều 12. Đối tượng tham gia bảo hiểm y tế\\n\\n1...  \n",
       "13  I. Theo Bộ luật Lao động năm 2019\\n Điều 138. ...  \n",
       "14  Điều 137. Bảo vệ thai sản đối với lao động nữ\\...  \n",
       "15  Điều 143. Lao động chưa thành niên\\n\\n1.Lao độ...  \n",
       "16  Điều 124. Hình thức xử lý kỷ luật lao động\\n\\n...  \n",
       "17  Điều 125. Áp dụng hình thức xử lý kỷ luật sa t...  \n",
       "18  Điều 21. Nội dung hợp đồng lao động\\n\\n1.Hợp đ...  \n",
       "19  Điều 8. Các hành vi bị nghiêm cấm\\n\\nNgười sử ...  "
      ]
     },
     "execution_count": 10,
     "metadata": {},
     "output_type": "execute_result"
    }
   ],
   "source": [
    "laws_df"
   ]
  },
  {
   "cell_type": "code",
   "execution_count": null,
   "id": "e9e45987",
   "metadata": {},
   "outputs": [],
   "source": [
    "from llm import create_llm_prompt\n",
    "from shared.common_fn import run_parallel_tasks_with_saving\n",
    "from prompts import CONVERT_LAW_TO_JAPANESE_TEMPLATE\n",
    "import copy\n",
    "from json_repair import repair_json \n",
    "import json\n",
    "def convert_law_to_japanese_parallel(\n",
    "    laws_df,\n",
    "    output_csv_path=\"dataset/converted_japanese_laws.csv\",\n",
    "    max_workers=5,\n",
    "    save_every=10,\n",
    "):\n",
    "    \"\"\"Sinh nội quy lao động từ điều luật bằng LLM, chạy song song.\"\"\"\n",
    "    \n",
    "    # Chuẩn bị danh sách job\n",
    "    jobs = [\n",
    "        (i, laws_df.iloc[i][\"Nội dung đầy đủ\"])\n",
    "        for i in range(laws_df.shape[0])\n",
    "    ]\n",
    "\n",
    "    # Định nghĩa hàm xử lý từng job\n",
    "    def job_fn(idx, law_text):\n",
    "        try:\n",
    "            template = copy.deepcopy(CONVERT_LAW_TO_JAPANESE_TEMPLATE)\n",
    "            template[\"input\"] = template[\"input\"].format(law=law_text)\n",
    "            prompt = create_llm_prompt(is_model_qwen=False, template=template)\n",
    "\n",
    "            response = my_llm.generate(prompt, max_tokens=4000)\n",
    "            price = my_llm.calculate_price(response)\n",
    "\n",
    "            response_json = repair_json(response.output_text, ensure_ascii=False)\n",
    "            parsed = json.loads(response_json)\n",
    "\n",
    "            return {\n",
    "                \"vi_law\": law_text,\n",
    "                \"converted_law_ja\": parsed.get(\"converted_law_ja\", \"\"),\n",
    "                \"price\": price\n",
    "            }\n",
    "\n",
    "        except Exception as e:\n",
    "            print(f\"⚠️ Error in job {idx}: {e}\")\n",
    "            return {\n",
    "                \"vi_law\": law_text,\n",
    "                \"converted_law_ja\": \"\",\n",
    "                \"price\": 0\n",
    "            }\n",
    "\n",
    "    # Gọi hàm tổng quát\n",
    "    results_df = run_parallel_tasks_with_saving(\n",
    "        jobs=jobs,\n",
    "        job_fn=job_fn,\n",
    "        output_csv_path=output_csv_path,\n",
    "        columns=[\"vi_law\", \"converted_law_ja\", \"price\"],\n",
    "        max_workers=max_workers,\n",
    "        save_every=save_every,\n",
    "    )\n",
    "\n",
    "    return results_df"
   ]
  },
  {
   "cell_type": "code",
   "execution_count": null,
   "id": "13e4b5b3",
   "metadata": {},
   "outputs": [
    {
     "name": "stdout",
     "output_type": "stream",
     "text": [
      "🚀 Running 20 jobs with 5 workers...\n"
     ]
    },
    {
     "name": "stderr",
     "output_type": "stream",
     "text": [
      "/home/thanhnguyen/code/create_dataset/shared/common_fn.py:61: FutureWarning: The behavior of DataFrame concatenation with empty or all-NA entries is deprecated. In a future version, this will no longer exclude empty or all-NA columns when determining the result dtypes. To retain the old behavior, exclude the relevant entries before the concat operation.\n",
      "  results_df = pd.concat([results_df, temp_df], ignore_index=True)\n"
     ]
    },
    {
     "name": "stdout",
     "output_type": "stream",
     "text": [
      "💾 Saved 10 rows (processed 10/20) | 💰 Total = 0.1487\n",
      "💾 Saved 20 rows (processed 20/20) | 💰 Total = 0.3604\n",
      "✅ Completed. Total rows: 20 saved to converted_japanese_laws.csv\n"
     ]
    }
   ],
   "source": [
    "converted_results=convert_law_to_japanese_parallel(\n",
    "    laws_df,\n",
    "    output_csv_path=\"dataset/converted_japanese_laws.csv\",\n",
    "    max_workers=5,\n",
    "    save_every=10)"
   ]
  },
  {
   "cell_type": "markdown",
   "id": "7c313b16",
   "metadata": {},
   "source": [
    "## Tạo testcase hợp đồng"
   ]
  },
  {
   "cell_type": "code",
   "execution_count": 1,
   "id": "4b8c97d4",
   "metadata": {},
   "outputs": [],
   "source": [
    "import pandas as pd\n",
    "laws_df=pd.read_csv(\"dataset/converted_japanese_laws.csv\", encoding=\"utf-8\")"
   ]
  },
  {
   "cell_type": "code",
   "execution_count": 2,
   "id": "58165058",
   "metadata": {},
   "outputs": [
    {
     "name": "stdout",
     "output_type": "stream",
     "text": [
      "Using API Key from: gpt-5-mini-2025-08-07_API_KEY\n",
      "Using Base URL from: gpt-5-mini-2025-08-07_BASE_URL\n"
     ]
    }
   ],
   "source": [
    "from llm import llm\n",
    "\n",
    "# model_name=\"gpt-5-2025-08-07\" #gpt 5\n",
    "model_name=\"gpt-5-mini-2025-08-07\" #gpt 5 mini\n",
    "# model_name=\"local\"\n",
    "# model_name=\"gemini-2.5-flash-lite\"\n",
    "\n",
    "my_llm = llm(model_name=model_name)"
   ]
  },
  {
   "cell_type": "code",
   "execution_count": 7,
   "id": "33afa111",
   "metadata": {},
   "outputs": [],
   "source": [
    "from llm import create_llm_prompt\n",
    "from prompts import CREATE_WORK_RULE_TEMPLATE_EN, LABEL_LIST\n",
    "from shared.common_fn import run_parallel_tasks_with_saving\n",
    "import copy\n",
    "from json_repair import repair_json \n",
    "import json\n",
    "def generate_work_rules_from_laws_parallel(\n",
    "    laws_df,\n",
    "    output_csv_path=\"work_rule_results.csv\",\n",
    "    max_workers=5,\n",
    "    save_every=10,\n",
    "):\n",
    "    \"\"\"Sinh nội quy lao động từ điều luật bằng LLM, chạy song song.\"\"\"\n",
    "    \n",
    "    # Chuẩn bị danh sách job\n",
    "    jobs = [\n",
    "        (i, laws_df.iloc[i][\"converted_law_ja\"], label)\n",
    "        for i in range(laws_df.shape[0])\n",
    "        for label in LABEL_LIST\n",
    "    ]\n",
    "\n",
    "    # Định nghĩa hàm xử lý từng job\n",
    "    def job_fn(idx, law_text, label):\n",
    "        try:\n",
    "            template = copy.deepcopy(CREATE_WORK_RULE_TEMPLATE_EN)\n",
    "            template[\"input\"] = template[\"input\"].format(law=law_text, label=label)\n",
    "            prompt = create_llm_prompt(is_model_qwen=False, template=template)\n",
    "\n",
    "            response = my_llm.generate(prompt, max_tokens=4000)\n",
    "            price = my_llm.calculate_price(response)\n",
    "\n",
    "            response_json = repair_json(response.output_text, ensure_ascii=False)\n",
    "            parsed = json.loads(response_json)\n",
    "\n",
    "            return {\n",
    "                \"law\": law_text,\n",
    "                \"label\": parsed.get(\"label\", label),\n",
    "                \"work_rule_ja\": parsed.get(\"work_rule_ja\", \"\"),\n",
    "                \"explanation_ja\": parsed.get(\"explanation_ja\", \"\"),\n",
    "                \"price\": price\n",
    "            }\n",
    "\n",
    "        except Exception as e:\n",
    "            print(f\"⚠️ Error in job {idx} ({label}): {e}\")\n",
    "            return {\n",
    "                \"law\": law_text,\n",
    "                \"label\": label,\n",
    "                \"work_rule\": \"\",\n",
    "                \"explanation_vi\": f\"Error: {e}\",\n",
    "                \"price\": 0\n",
    "            }\n",
    "\n",
    "    # Gọi hàm tổng quát\n",
    "    results_df = run_parallel_tasks_with_saving(\n",
    "        jobs=jobs,\n",
    "        job_fn=job_fn,\n",
    "        output_csv_path=output_csv_path,\n",
    "        columns=[\"law\", \"label\", \"work_rule_ja\", \"explanation_ja\", \"price\"],\n",
    "        max_workers=max_workers,\n",
    "        save_every=save_every,\n",
    "    )\n",
    "\n",
    "    return results_df"
   ]
  },
  {
   "cell_type": "code",
   "execution_count": 8,
   "id": "203a0eb0",
   "metadata": {},
   "outputs": [
    {
     "name": "stdout",
     "output_type": "stream",
     "text": [
      "🚀 Running 160 jobs with 5 workers...\n"
     ]
    },
    {
     "name": "stderr",
     "output_type": "stream",
     "text": [
      "/home/thanhnguyen/code/create_dataset/shared/common_fn.py:61: FutureWarning: The behavior of DataFrame concatenation with empty or all-NA entries is deprecated. In a future version, this will no longer exclude empty or all-NA columns when determining the result dtypes. To retain the old behavior, exclude the relevant entries before the concat operation.\n",
      "  results_df = pd.concat([results_df, temp_df], ignore_index=True)\n"
     ]
    },
    {
     "name": "stdout",
     "output_type": "stream",
     "text": [
      "💾 Saved 10 rows (processed 10/160) | 💰 Total = 0.0091\n",
      "💾 Saved 20 rows (processed 20/160) | 💰 Total = 0.0186\n",
      "💾 Saved 30 rows (processed 30/160) | 💰 Total = 0.0285\n",
      "💾 Saved 40 rows (processed 40/160) | 💰 Total = 0.0396\n",
      "💾 Saved 50 rows (processed 50/160) | 💰 Total = 0.0497\n",
      "💾 Saved 60 rows (processed 60/160) | 💰 Total = 0.0596\n",
      "💾 Saved 70 rows (processed 70/160) | 💰 Total = 0.0700\n",
      "💾 Saved 80 rows (processed 80/160) | 💰 Total = 0.0820\n",
      "💾 Saved 90 rows (processed 90/160) | 💰 Total = 0.0938\n",
      "💾 Saved 100 rows (processed 100/160) | 💰 Total = 0.1060\n",
      "💾 Saved 110 rows (processed 110/160) | 💰 Total = 0.1165\n",
      "💾 Saved 120 rows (processed 120/160) | 💰 Total = 0.1287\n",
      "💾 Saved 130 rows (processed 130/160) | 💰 Total = 0.1379\n",
      "💾 Saved 140 rows (processed 140/160) | 💰 Total = 0.1490\n",
      "💾 Saved 150 rows (processed 150/160) | 💰 Total = 0.1607\n",
      "💾 Saved 160 rows (processed 160/160) | 💰 Total = 0.1732\n",
      "✅ Completed. Total rows: 160 saved to dataset/work_rule_results.csv\n"
     ]
    }
   ],
   "source": [
    "results_df=generate_work_rules_from_laws_parallel(laws_df, output_csv_path=\"dataset/work_rule_results.csv\")"
   ]
  },
  {
   "cell_type": "markdown",
   "id": "64243ccf",
   "metadata": {},
   "source": []
  }
 ],
 "metadata": {
  "kernelspec": {
   "display_name": "neo4j",
   "language": "python",
   "name": "python3"
  },
  "language_info": {
   "codemirror_mode": {
    "name": "ipython",
    "version": 3
   },
   "file_extension": ".py",
   "mimetype": "text/x-python",
   "name": "python",
   "nbconvert_exporter": "python",
   "pygments_lexer": "ipython3",
   "version": "3.10.18"
  }
 },
 "nbformat": 4,
 "nbformat_minor": 5
}
